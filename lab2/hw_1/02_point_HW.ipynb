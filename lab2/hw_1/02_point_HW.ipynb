{
  "cells": [
    {
      "cell_type": "markdown",
      "metadata": {},
      "source": [
        "# Zadanie domowe"
      ]
    },
    {
      "cell_type": "markdown",
      "metadata": {
        "collapsed": false,
        "id": "m5Q2hnDC3NuL"
      },
      "source": [
        "## \n",
        "W przypadku obrazów w odcieniach szarości pojedynczy piksel z zakresu [0; 255] reprezentowany jest jako 8-bitowa liczba bez znaku.\n",
        "Pewnym rozszerzeniem analizy sposobu reprezentacji obrazu może być następujący eksperyment.\n",
        "Załóżmy, że z każdego z 8 bitów możemy stworzyć pojedynczy obraz binarny (ang. _bit-plane slicing_).\n",
        "Dla obrazka _100zloty.jpg_ (https://raw.githubusercontent.com/vision-agh/poc_sw/master/02_Point/100zloty.jpg) stwórz 8 obrazów, z których każdy powinien zawierać jedną płaszczyznę bitową.\n",
        "Podpowiedź $-$ warto sprawdzić, jak realizuje się bitowe operacje logiczne.\n",
        "Zastosowanie takiej dekompozycji obrazu pozwala na analizę ,,ważności'' poszczególnych bitów.\n",
        "Jest to użyteczne w kwantyzacji, ale także w kompresji.\n"
      ]
    },
    {
      "cell_type": "code",
      "execution_count": null,
      "metadata": {
        "id": "tsKtFztv4T2l"
      },
      "outputs": [],
      "source": [
        "import cv2\n",
        "import os\n",
        "import requests\n",
        "import matplotlib.pyplot as plt\n",
        "import numpy as np\n",
        "\n",
        "url = 'https://raw.githubusercontent.com/vision-agh/poc_sw/master/02_Point/'\n",
        "fileName = '100zloty.jpg'\n",
        "if not os.path.exists(fileName) :\n",
        "    r = requests.get(url + fileName, allow_redirects=True)\n",
        "    open(fileName, 'wb').write(r.content)\n",
        "\n",
        "img = cv2.imread('100zloty.jpg', cv2.IMREAD_GRAYSCALE)\n"
      ]
    },
    {
      "cell_type": "code",
      "execution_count": null,
      "metadata": {},
      "outputs": [],
      "source": [
        "plt.xticks([]), plt.yticks([])\n",
        "plt.imshow(img, cmap=\"grey\");"
      ]
    },
    {
      "cell_type": "code",
      "execution_count": null,
      "metadata": {},
      "outputs": [],
      "source": [
        "bit_planes = []\n",
        "for i in range(8):\n",
        "    bit_plane = np.zeros_like(img)\n",
        "    bit_plane[img & (1 << i) != 0] = 1\n",
        "    bit_planes.append(bit_plane)\n"
      ]
    },
    {
      "cell_type": "code",
      "execution_count": null,
      "metadata": {},
      "outputs": [],
      "source": [
        "fig, axs = plt.subplots(2, 4, figsize=(10, 5))\n",
        "for i, ax in enumerate(axs.flat):\n",
        "    ax.imshow(bit_planes[i], cmap='gray')\n",
        "    ax.set_title(f'Bit Plane {i}')\n",
        "    ax.set_xticks([]), ax.set_yticks([])\n",
        "plt.show()\n",
        "\n"
      ]
    },
    {
      "cell_type": "markdown",
      "metadata": {},
      "source": [
        "Najważniejsze wydają się ostatnie bity - obraz najbardziej przypomina ten wejściowy"
      ]
    },
    {
      "cell_type": "markdown",
      "metadata": {},
      "source": [
        "## \n",
        "W drugim etapie zadania proszę spróbować odtworzyć obraz oryginalny z mniejszej liczby obrazów binarnych.\n",
        "Warto zacząć od dwóch najbardziej znaczących bitów, a później dodawać kolejne.\n",
        "Należy utworzyć co najmniej trzy wersje zrekonstruowanych obrazów.\n",
        "Podpowiedź $-$ rekonstrukcja obrazu to mnożenie przez odpowiednią potęgę liczby 2 (przesunięcie bitowe) oraz dodawanie."
      ]
    },
    {
      "cell_type": "code",
      "execution_count": null,
      "metadata": {},
      "outputs": [],
      "source": [
        "def reconstruct_image_for(rng):\n",
        "    if rng.start > 7 or rng.start<0: \n",
        "        print(\"range should be chosen from numbers between 7 and 0\")\n",
        "    elif rng.start == 7: \n",
        "        plt.title(f'Reconstructed Image from {rng.start - rng.stop} Most Significant Bit Planes')\n",
        "    else: \n",
        "        plt.title(f'Reconstructed Image for bitmaps between {rng.stop + 1} and {rng.start} Bit Planes')\n",
        "\n",
        "    reconstructed_img = np.zeros_like(bit_planes)[7]\n",
        "    \n",
        "    for i in rng:\n",
        "        reconstructed_img += (bit_planes[i] << i)\n",
        "    plt.imshow(reconstructed_img, cmap='gray')\n",
        "    \n",
        "    plt.xticks([]), plt.yticks([])\n",
        "    plt.show()"
      ]
    },
    {
      "cell_type": "code",
      "execution_count": null,
      "metadata": {},
      "outputs": [],
      "source": [
        "reconstruct_image_for(range(7,5,-1))\n",
        "reconstruct_image_for(range(7,4,-1))\n",
        "reconstruct_image_for(range(7,3,-1))\n"
      ]
    },
    {
      "cell_type": "markdown",
      "metadata": {},
      "source": [
        "Zrekonstruowane obrazy wyglądają niemal identycznie porównując z wejściowym obrazem"
      ]
    },
    {
      "cell_type": "markdown",
      "metadata": {},
      "source": [
        "## \n",
        "Rekonstrukcja z wszystkich bitów"
      ]
    },
    {
      "cell_type": "code",
      "execution_count": null,
      "metadata": {},
      "outputs": [],
      "source": [
        "reconstruct_image_for(range(7,-1,-1))"
      ]
    },
    {
      "cell_type": "markdown",
      "metadata": {},
      "source": [
        "## \n",
        "Interesujące przykłady"
      ]
    },
    {
      "cell_type": "code",
      "execution_count": null,
      "metadata": {},
      "outputs": [],
      "source": [
        "reconstruct_image_for(range(6,-1,-1))"
      ]
    },
    {
      "cell_type": "code",
      "execution_count": null,
      "metadata": {},
      "outputs": [],
      "source": [
        "reconstruct_image_for(range(5,-1,-1))"
      ]
    },
    {
      "cell_type": "markdown",
      "metadata": {},
      "source": [
        "Powyższe przykłady, bez najbardziej dokładnych obrazów binarnych, eksponują niewidoczne gołym okiem znaki wodne obecne w banknocie"
      ]
    }
  ],
  "metadata": {
    "colab": {
      "provenance": []
    },
    "kernelspec": {
      "display_name": "Python 3",
      "language": "python",
      "name": "python3"
    },
    "language_info": {
      "codemirror_mode": {
        "name": "ipython",
        "version": 3
      },
      "file_extension": ".py",
      "mimetype": "text/x-python",
      "name": "python",
      "nbconvert_exporter": "python",
      "pygments_lexer": "ipython3",
      "version": "3.9.12"
    }
  },
  "nbformat": 4,
  "nbformat_minor": 0
}
