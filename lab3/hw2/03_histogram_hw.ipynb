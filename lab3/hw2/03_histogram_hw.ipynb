{
  "cells": [
    {
      "cell_type": "markdown",
      "metadata": {
        "collapsed": false,
        "id": "4Fbe36eKPM0s"
      },
      "source": [
        "## Zadanie domowe: BBHE i DSIHE\n",
        "\n",
        "W klasycznym wyrównywaniu histogramu HE  po wykonaniu operacji jasność obrazu ulega zmianie.\n",
        "Dało się to zaobserwować podczas przeprowadzonych eksperymentów.\n",
        "Jeśli nie to należy uruchomić skrypt z sekcji A i zwrócić na to uwagę.\n",
        "Średnia jasność dąży do środkowego poziomu szarości.\n",
        "Jest to wada i dlatego klasyczne HE ma ograniczone zastosowanie.\n",
        "\n",
        "Powstało sporo metod, które eliminują to niekorzystne zjawisko.\n",
        "Najprostsze z nich polegają na dekompozycji obrazu wejściowego na dwa podobrazy (wg. pewnego kryterium).\n",
        "Następnie operacja HE wykonywana jest dla tych podobrazów.\n",
        "\n",
        "Dwie znane z literatury metody to:\n",
        "- Bi-Histogram Equalization\n",
        "- DSIHE - Dualistic Sub-Image Histogram Equalization\n",
        "\n",
        "W metodzie BBHE za kryterium podziału przyjmuje się średnią jasność w obrazie.\n",
        "W DSIHE obraz dzieli się na dwa podobrazy o takiej samej liczbie pikseli (jaśniejszych i ciemniejszych).\n",
        "\n",
        "W ramach zadania należy zaimplementować wybraną metodę: BBHE lub DSIHE (ew. obie)."
      ]
    },
    {
      "cell_type": "markdown",
      "metadata": {},
      "source": [
        "1. Wczytaj obraz *jet.bmp* i wylicz jego histogram."
      ]
    },
    {
      "cell_type": "code",
      "execution_count": null,
      "metadata": {
        "id": "c2Q0bFkqPM0v",
        "pycharm": {
          "name": "#%% Zadanie domowe - BBHE\n"
        }
      },
      "outputs": [],
      "source": [
        "import cv2\n",
        "import os\n",
        "import requests\n",
        "from matplotlib import pyplot as plt\n",
        "import numpy as np\n",
        "\n",
        "url = 'https://raw.githubusercontent.com/vision-agh/poc_sw/master/03_Histogram/'\n",
        "fileName = 'jet.bmp'\n",
        "if not os.path.exists(fileName) :\n",
        "    r = requests.get(url + fileName, allow_redirects=True)\n",
        "    open(fileName, 'wb').write(r.content)"
      ]
    },
    {
      "cell_type": "code",
      "execution_count": null,
      "metadata": {},
      "outputs": [],
      "source": [
        "fig, axs = plt.subplots(1, 2, figsize = (15,5))\n",
        "\n",
        "img = cv2.imread('jet.bmp', cv2.IMREAD_GRAYSCALE)\n",
        "hist = cv2.calcHist([img], [0], None, [256], [0, 256])\n",
        "\n",
        "axs[0].imshow(img, cmap='gray')\n",
        "axs[0].set_title('Obraz')\n",
        "axs[0].axis(\"off\")\n",
        "\n",
        "axs[1].plot(hist)\n",
        "axs[1].set_xlim([0, 256])\n",
        "axs[1].set_title('Histogram')\n",
        "axs[1].grid()"
      ]
    },
    {
      "cell_type": "markdown",
      "metadata": {},
      "source": [
        "2. W kolejnym kroku należy wyznaczyć próg podziału obrazu na dwa podobrazy (*lm*)."
      ]
    },
    {
      "cell_type": "markdown",
      "metadata": {},
      "source": [
        "3. Dla BBHE wyznacz średnią jasność obrazu. Dla DSIHE można wykorzystać histogram skumulowany.\n",
        "Należy znaleźć poziom jasności który znajduje się \"w połowie\" histogramu skumulowanego.\n",
        "W tym celu warto stworzyć tablicę, zawierającą moduł histogramu skumulowanego pomniejszonego o połowę liczby pikseli.wD\n",
        "Następnie znaleźć minimum - `np.argmin`."
      ]
    },
    {
      "cell_type": "code",
      "execution_count": null,
      "metadata": {},
      "outputs": [],
      "source": [
        "avg_brightness = img.mean()\n",
        "print(avg_brightness)\n",
        "\n",
        "cumulative_hist = np.cumsum(hist)\n",
        "half_cumulative = np.abs(cumulative_hist - (img.size / 2))\n",
        "dsihe = np.argmin(half_cumulative)\n",
        "\n",
        "division_point = int(avg_brightness)\n",
        "division_point_2 = int(dsihe)\n",
        "\n"
      ]
    },
    {
      "cell_type": "markdown",
      "metadata": {},
      "source": [
        "4. Dalej należy podzielić histogram oryginalnego obrazu na dwa histogramy *H1* i *H2*.\n",
        "Dla każdego z nich wyliczyć histogram skumulowany ($C_1$ i $C_2$) i wykonać normalizację.\n",
        "Normalizacja polega na podzieleniu każdego histogramu przez jego największy element."
      ]
    },
    {
      "cell_type": "code",
      "execution_count": null,
      "metadata": {},
      "outputs": [],
      "source": [
        "H1 = hist[:division_point]\n",
        "H2 = hist[division_point:]\n",
        "\n",
        "C1 = np.cumsum(H1)\n",
        "C2 = np.cumsum(H2)\n",
        "\n",
        "C1_normalized = C1 / np.max(C1)\n",
        "C2_normalized = C2 / np.max(C2)\n",
        "\n",
        "H1_2 = hist[:division_point_2]\n",
        "H2_2 = hist[division_point_2:]\n",
        "\n",
        "C1_2 = np.cumsum(H1_2)\n",
        "C2_2 = np.cumsum(H2_2)\n",
        "\n",
        "C1_normalized_2 = C1_2 / np.max(C1_2)\n",
        "C2_normalized_2 = C2_2 / np.max(C2_2)"
      ]
    },
    {
      "cell_type": "markdown",
      "metadata": {},
      "source": [
        "5. Na podstawie histogramów skumulowanych należy stworzyć przekształcenie LUT.\n",
        "Należy tak przeskalować $C_1$ i $C_2$, aby uzyskać jednorodne przekształcenie.\n",
        "Tablicę $C_1$ wystarczy pomnożyć przez próg podziału.\n",
        "Tablicę $C_2$ należy przeskalować do przedziału: $<lm+1; 255>$, gdzie $lm$ jest progiem podziału.<br>\n",
        "$C_{1n} = (lm)*C1;$<br>\n",
        "$C_{2n} = lm+1 + (255-lm-1)*C2;$<br>\n",
        "Następnie dwie części tablicy przekodowań należy połączyć."
      ]
    },
    {
      "cell_type": "code",
      "execution_count": null,
      "metadata": {},
      "outputs": [],
      "source": [
        "C1n = division_point * C1_normalized\n",
        "C2n = division_point + 1 + (255 - division_point - 1) * C2_normalized\n",
        "\n",
        "Cn = np.zeros(256)\n",
        "Cn[:division_point] = C1n\n",
        "Cn[division_point:] = C2n\n",
        "\n",
        "\n",
        "C1n_2 = division_point_2 * C1_normalized_2\n",
        "C2n_2 = division_point_2 + 1 + (255 - division_point_2 - 1) * C2_normalized_2\n",
        "\n",
        "Cn_2 = np.zeros(256)\n",
        "Cn_2[:division_point_2] = C1n_2\n",
        "Cn_2[division_point_2:] = C2n_2"
      ]
    },
    {
      "cell_type": "markdown",
      "metadata": {},
      "source": [
        "6. Ostatecznie należy wykonać operację LUT i wyświetlić wynik wyrównywania histogramu.\n",
        "Porównaj wynik operacji BBHE lub DSIHE z klasycznym HE."
      ]
    },
    {
      "cell_type": "code",
      "execution_count": null,
      "metadata": {},
      "outputs": [],
      "source": [
        "img_bbhe = cv2.LUT(img, Cn.astype('uint8'))\n",
        "\n",
        "img_dsihe = cv2.LUT(img, Cn_2.astype('uint8'))\n",
        "\n",
        "img_he = cv2.equalizeHist(img)\n",
        "\n",
        "fig, axs = plt.subplots(1, 3, figsize=(25, 30))\n",
        "\n",
        "axs[0].imshow(img_bbhe, cmap='gray')\n",
        "axs[0].set_title('BBHE')\n",
        "axs[0].axis(\"off\")\n",
        "\n",
        "axs[1].imshow(img_dsihe, cmap='gray')\n",
        "axs[1].set_title('DSIHE')\n",
        "axs[1].axis(\"off\")\n",
        "\n",
        "axs[2].imshow(img_he, cmap='gray')\n",
        "axs[2].set_title('HE')\n",
        "axs[2].axis(\"off\")\n",
        "\n",
        "plt.show()\n"
      ]
    }
  ],
  "metadata": {
    "colab": {
      "collapsed_sections": [],
      "provenance": []
    },
    "kernelspec": {
      "display_name": "Python 3",
      "language": "python",
      "name": "python3"
    },
    "language_info": {
      "codemirror_mode": {
        "name": "ipython",
        "version": 3
      },
      "file_extension": ".py",
      "mimetype": "text/x-python",
      "name": "python",
      "nbconvert_exporter": "python",
      "pygments_lexer": "ipython3",
      "version": "3.9.12"
    }
  },
  "nbformat": 4,
  "nbformat_minor": 0
}
